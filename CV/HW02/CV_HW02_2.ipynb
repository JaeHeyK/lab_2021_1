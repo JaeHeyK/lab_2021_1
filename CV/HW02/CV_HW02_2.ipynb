{
 "cells": [
  {
   "cell_type": "code",
   "execution_count": 2,
   "metadata": {},
   "outputs": [
    {
     "name": "stdout",
     "output_type": "stream",
     "text": [
      "Requirement already satisfied: Image in c:\\users\\jaehe\\anaconda3\\lib\\site-packages (1.5.33)\n",
      "Requirement already satisfied: pillow in c:\\users\\jaehe\\anaconda3\\lib\\site-packages (from Image) (8.0.1)\n",
      "Requirement already satisfied: six in c:\\users\\jaehe\\anaconda3\\lib\\site-packages (from Image) (1.15.0)\n",
      "Requirement already satisfied: django in c:\\users\\jaehe\\anaconda3\\lib\\site-packages (from Image) (3.1.7)\n",
      "Requirement already satisfied: pytz in c:\\users\\jaehe\\anaconda3\\lib\\site-packages (from django->Image) (2020.1)\n",
      "Requirement already satisfied: asgiref<4,>=3.2.10 in c:\\users\\jaehe\\anaconda3\\lib\\site-packages (from django->Image) (3.3.1)\n",
      "Requirement already satisfied: sqlparse>=0.2.2 in c:\\users\\jaehe\\anaconda3\\lib\\site-packages (from django->Image) (0.4.1)\n"
     ]
    }
   ],
   "source": [
    "!pip install Image"
   ]
  },
  {
   "cell_type": "code",
   "execution_count": 3,
   "metadata": {},
   "outputs": [
    {
     "name": "stdout",
     "output_type": "stream",
     "text": [
      "Requirement already satisfied: numpy in c:\\users\\jaehe\\anaconda3\\lib\\site-packages (1.19.2)\n"
     ]
    }
   ],
   "source": [
    "!pip install numpy"
   ]
  },
  {
   "cell_type": "code",
   "execution_count": 3,
   "metadata": {},
   "outputs": [],
   "source": [
    "from PIL import Image\n",
    "import numpy as np\n",
    "import math"
   ]
  },
  {
   "cell_type": "code",
   "execution_count": 42,
   "metadata": {},
   "outputs": [],
   "source": [
    "# Part 1.1\n",
    "def boxfilter(n):\n",
    "    # First, check if n is odd. If not, assert message appeared\n",
    "    assert n%2 == 1, \"Dimesion must be odd\"\n",
    "    \n",
    "    # If n is odd, create n * n size array filled with 1.\n",
    "    # And divide it with sum of array, in this case , n**2.\n",
    "    return np.ones((n,n))/(n**2)"
   ]
  },
  {
   "cell_type": "code",
   "execution_count": 6,
   "metadata": {},
   "outputs": [
    {
     "data": {
      "text/plain": [
       "array([[0.11111111, 0.11111111, 0.11111111],\n",
       "       [0.11111111, 0.11111111, 0.11111111],\n",
       "       [0.11111111, 0.11111111, 0.11111111]])"
      ]
     },
     "execution_count": 6,
     "metadata": {},
     "output_type": "execute_result"
    }
   ],
   "source": [
    "boxfilter(3)"
   ]
  },
  {
   "cell_type": "code",
   "execution_count": 43,
   "metadata": {},
   "outputs": [
    {
     "ename": "AssertionError",
     "evalue": "Dimesion must be odd",
     "output_type": "error",
     "traceback": [
      "\u001b[1;31m---------------------------------------------------------------------------\u001b[0m",
      "\u001b[1;31mAssertionError\u001b[0m                            Traceback (most recent call last)",
      "\u001b[1;32m<ipython-input-43-5870f78beb34>\u001b[0m in \u001b[0;36m<module>\u001b[1;34m\u001b[0m\n\u001b[1;32m----> 1\u001b[1;33m \u001b[0mboxfilter\u001b[0m\u001b[1;33m(\u001b[0m\u001b[1;36m4\u001b[0m\u001b[1;33m)\u001b[0m\u001b[1;33m\u001b[0m\u001b[1;33m\u001b[0m\u001b[0m\n\u001b[0m",
      "\u001b[1;32m<ipython-input-42-5fc975c6d216>\u001b[0m in \u001b[0;36mboxfilter\u001b[1;34m(n)\u001b[0m\n\u001b[0;32m      3\u001b[0m \u001b[1;31m# If n is odd, create n * n size array filled with 1. And divide it with sum of array, in this case , n**2.\u001b[0m\u001b[1;33m\u001b[0m\u001b[1;33m\u001b[0m\u001b[1;33m\u001b[0m\u001b[0m\n\u001b[0;32m      4\u001b[0m \u001b[1;32mdef\u001b[0m \u001b[0mboxfilter\u001b[0m\u001b[1;33m(\u001b[0m\u001b[0mn\u001b[0m\u001b[1;33m)\u001b[0m\u001b[1;33m:\u001b[0m\u001b[1;33m\u001b[0m\u001b[1;33m\u001b[0m\u001b[0m\n\u001b[1;32m----> 5\u001b[1;33m     \u001b[1;32massert\u001b[0m \u001b[0mn\u001b[0m\u001b[1;33m%\u001b[0m\u001b[1;36m2\u001b[0m \u001b[1;33m==\u001b[0m \u001b[1;36m1\u001b[0m\u001b[1;33m,\u001b[0m \u001b[1;34m\"Dimesion must be odd\"\u001b[0m\u001b[1;33m\u001b[0m\u001b[1;33m\u001b[0m\u001b[0m\n\u001b[0m\u001b[0;32m      6\u001b[0m     \u001b[1;32mreturn\u001b[0m \u001b[0mnp\u001b[0m\u001b[1;33m.\u001b[0m\u001b[0mones\u001b[0m\u001b[1;33m(\u001b[0m\u001b[1;33m(\u001b[0m\u001b[0mn\u001b[0m\u001b[1;33m,\u001b[0m\u001b[0mn\u001b[0m\u001b[1;33m)\u001b[0m\u001b[1;33m)\u001b[0m\u001b[1;33m/\u001b[0m\u001b[1;33m(\u001b[0m\u001b[0mn\u001b[0m\u001b[1;33m**\u001b[0m\u001b[1;36m2\u001b[0m\u001b[1;33m)\u001b[0m\u001b[1;33m\u001b[0m\u001b[1;33m\u001b[0m\u001b[0m\n",
      "\u001b[1;31mAssertionError\u001b[0m: Dimesion must be odd"
     ]
    }
   ],
   "source": [
    "boxfilter(4)"
   ]
  },
  {
   "cell_type": "code",
   "execution_count": 44,
   "metadata": {},
   "outputs": [
    {
     "data": {
      "text/plain": [
       "array([[0.02040816, 0.02040816, 0.02040816, 0.02040816, 0.02040816,\n",
       "        0.02040816, 0.02040816],\n",
       "       [0.02040816, 0.02040816, 0.02040816, 0.02040816, 0.02040816,\n",
       "        0.02040816, 0.02040816],\n",
       "       [0.02040816, 0.02040816, 0.02040816, 0.02040816, 0.02040816,\n",
       "        0.02040816, 0.02040816],\n",
       "       [0.02040816, 0.02040816, 0.02040816, 0.02040816, 0.02040816,\n",
       "        0.02040816, 0.02040816],\n",
       "       [0.02040816, 0.02040816, 0.02040816, 0.02040816, 0.02040816,\n",
       "        0.02040816, 0.02040816],\n",
       "       [0.02040816, 0.02040816, 0.02040816, 0.02040816, 0.02040816,\n",
       "        0.02040816, 0.02040816],\n",
       "       [0.02040816, 0.02040816, 0.02040816, 0.02040816, 0.02040816,\n",
       "        0.02040816, 0.02040816]])"
      ]
     },
     "execution_count": 44,
     "metadata": {},
     "output_type": "execute_result"
    }
   ],
   "source": [
    "boxfilter(7)"
   ]
  },
  {
   "cell_type": "code",
   "execution_count": 4,
   "metadata": {},
   "outputs": [],
   "source": [
    "# Part 1.2\n",
    "# return gauss 1-d array based on sigma value\n",
    "def gauss1d(sigma):\n",
    "    # To get d(smallest odd which is larger than sigma*6),\n",
    "    # I use ceiling, remain-less division(//) by 2, and multiplying by 2\n",
    "    d = math.ceil(sigma*6)//2*2+1\n",
    "\n",
    "    # create d-length array filled with gauss density value, based on index\n",
    "    g1 = np.exp(-(np.arange(d)-d//2)**2/(2*sigma**2))\n",
    "\n",
    "    # divide the array with sum of whole array,\n",
    "    # so that array can be normalized with sum of 1\n",
    "    return g1/np.sum(g1)"
   ]
  },
  {
   "cell_type": "code",
   "execution_count": 47,
   "metadata": {},
   "outputs": [
    {
     "data": {
      "text/plain": [
       "array([0.00383626, 0.99232748, 0.00383626])"
      ]
     },
     "execution_count": 47,
     "metadata": {},
     "output_type": "execute_result"
    }
   ],
   "source": [
    "gauss1d(0.3)"
   ]
  },
  {
   "cell_type": "code",
   "execution_count": 48,
   "metadata": {},
   "outputs": [
    {
     "data": {
      "text/plain": [
       "array([0.10650698, 0.78698604, 0.10650698])"
      ]
     },
     "execution_count": 48,
     "metadata": {},
     "output_type": "execute_result"
    }
   ],
   "source": [
    "gauss1d(0.5)"
   ]
  },
  {
   "cell_type": "code",
   "execution_count": 49,
   "metadata": {},
   "outputs": [
    {
     "data": {
      "text/plain": [
       "array([0.00443305, 0.05400558, 0.24203623, 0.39905028, 0.24203623,\n",
       "       0.05400558, 0.00443305])"
      ]
     },
     "execution_count": 49,
     "metadata": {},
     "output_type": "execute_result"
    }
   ],
   "source": [
    "gauss1d(1)"
   ]
  },
  {
   "cell_type": "code",
   "execution_count": 50,
   "metadata": {},
   "outputs": [
    {
     "data": {
      "text/plain": [
       "array([0.0022182 , 0.00877313, 0.02702316, 0.06482519, 0.12110939,\n",
       "       0.17621312, 0.19967563, 0.17621312, 0.12110939, 0.06482519,\n",
       "       0.02702316, 0.00877313, 0.0022182 ])"
      ]
     },
     "execution_count": 50,
     "metadata": {},
     "output_type": "execute_result"
    }
   ],
   "source": [
    "gauss1d(2)"
   ]
  },
  {
   "cell_type": "code",
   "execution_count": 5,
   "metadata": {},
   "outputs": [],
   "source": [
    "# Part 1.3\n",
    "# return gauss 2-d array based on sigma value\n",
    "def gauss2d(sigma):\n",
    "    # retrun outer product of two same gauss1d arrays\n",
    "    return np.outer(gauss1d(sigma), gauss1d(sigma))"
   ]
  },
  {
   "cell_type": "code",
   "execution_count": 52,
   "metadata": {},
   "outputs": [
    {
     "data": {
      "text/plain": [
       "array([[0.01134374, 0.08381951, 0.01134374],\n",
       "       [0.08381951, 0.61934703, 0.08381951],\n",
       "       [0.01134374, 0.08381951, 0.01134374]])"
      ]
     },
     "execution_count": 52,
     "metadata": {},
     "output_type": "execute_result"
    }
   ],
   "source": [
    "gauss2d(0.5)"
   ]
  },
  {
   "cell_type": "code",
   "execution_count": 17,
   "metadata": {},
   "outputs": [
    {
     "data": {
      "text/plain": [
       "array([[1.96519161e-05, 2.39409349e-04, 1.07295826e-03, 1.76900911e-03,\n",
       "        1.07295826e-03, 2.39409349e-04, 1.96519161e-05],\n",
       "       [2.39409349e-04, 2.91660295e-03, 1.30713076e-02, 2.15509428e-02,\n",
       "        1.30713076e-02, 2.91660295e-03, 2.39409349e-04],\n",
       "       [1.07295826e-03, 1.30713076e-02, 5.85815363e-02, 9.65846250e-02,\n",
       "        5.85815363e-02, 1.30713076e-02, 1.07295826e-03],\n",
       "       [1.76900911e-03, 2.15509428e-02, 9.65846250e-02, 1.59241126e-01,\n",
       "        9.65846250e-02, 2.15509428e-02, 1.76900911e-03],\n",
       "       [1.07295826e-03, 1.30713076e-02, 5.85815363e-02, 9.65846250e-02,\n",
       "        5.85815363e-02, 1.30713076e-02, 1.07295826e-03],\n",
       "       [2.39409349e-04, 2.91660295e-03, 1.30713076e-02, 2.15509428e-02,\n",
       "        1.30713076e-02, 2.91660295e-03, 2.39409349e-04],\n",
       "       [1.96519161e-05, 2.39409349e-04, 1.07295826e-03, 1.76900911e-03,\n",
       "        1.07295826e-03, 2.39409349e-04, 1.96519161e-05]])"
      ]
     },
     "execution_count": 17,
     "metadata": {},
     "output_type": "execute_result"
    }
   ],
   "source": [
    "gauss2d(1)"
   ]
  },
  {
   "cell_type": "code",
   "execution_count": 6,
   "metadata": {},
   "outputs": [],
   "source": [
    "# Part 1.4.a\n",
    "# return array which is convolved with input filter\n",
    "def convolve2d(array, filter):\n",
    "    # convert array type to float32 for proper operation\n",
    "    array.astype(np.float32)\n",
    "    \n",
    "    # get padding radius using filters size\n",
    "    m = filter.shape[0]//2\n",
    "\n",
    "    # padding array with 0, for width m\n",
    "    pad = np.pad(array,m,\"constant\", constant_values=0)\n",
    "    # for convolution, flip filter in advance both horizontally, vertically\n",
    "    conv = filter[:,::-1][::-1]\n",
    "\n",
    "    # create new 0-filled original array size array.\n",
    "    # result array will be stored here\n",
    "    result = np.zeros(array.shape)\n",
    "\n",
    "    # iterate pixel which kernel center can be,\n",
    "    # and at each index, directly multiplying array with conv(convolution)\n",
    "    for i in range(m,array.shape[0]+m):\n",
    "        for j in range(m, array.shape[1]+m):\n",
    "            result[i-m][j-m] = np.sum(conv * pad[i-m:i+m+1,j-m:j+m+1])\n",
    "\n",
    "    return result"
   ]
  },
  {
   "cell_type": "code",
   "execution_count": 7,
   "metadata": {},
   "outputs": [],
   "source": [
    "# Part 1.4.b\n",
    "# return array that convolved with gaussian filter\n",
    "# filter will be generated by gauss2d(sigma)\n",
    "def gaussconvolve2d(array, sigma):\n",
    "    return convolve2d(array, gauss2d(sigma))"
   ]
  },
  {
   "cell_type": "code",
   "execution_count": 39,
   "metadata": {},
   "outputs": [],
   "source": [
    "# Part 1.4.c\n",
    "# Open dog image, convert it to greyscale\n",
    "dogIm = Image.open('2b_dog.bmp')\n",
    "dogIm = dogIm.convert('L')\n",
    "\n",
    "# convert it to numpy array, and apply gaussian convolution with sigma 3\n",
    "dogImArray = np.asarray(dogIm)\n",
    "dogImGaussArray = gaussconvolve2d(dogImArray, 3)\n",
    "\n",
    "# convert its type to uint8, for saving image file\n",
    "dogImGaussArray = dogImGaussArray.astype('uint8')\n",
    "# convert this array to image, and save it\n",
    "dogImGauss = Image.fromarray(dogImGaussArray)\n",
    "dogImGauss.save('dog_gaussian.bmp', 'PNG')\n",
    "\n",
    "# show both original image and filtered image using Image.show()\n",
    "dogIm.show()\n",
    "dogImGauss.show()"
   ]
  },
  {
   "cell_type": "code",
   "execution_count": 8,
   "metadata": {},
   "outputs": [],
   "source": [
    "# Befor Part2, create low pass functoin and array-image convertig function\n",
    "\n",
    "# this function get target image and sigma\n",
    "# and with them, it will return low pass filtered RGB channel list\n",
    "# this list can be used by another filter functions\n",
    "def colorLowPassChannels(im, sigma):\n",
    "    # split each RGB channel from imported image\n",
    "    r,g,b = im.split()\n",
    "    channels = [r, g, b]\n",
    "\n",
    "    # filtered channel arrays will be stored here\n",
    "    gaussChannels = []\n",
    "    \n",
    "    # for each channel, convert it to numpy array\n",
    "    # apply gaussian filter(with sigma), and store it\n",
    "    for channel in channels:\n",
    "        chArray = np.asarray(channel)\n",
    "        gaussChArray = gaussconvolve2d(chArray, sigma)\n",
    "        gaussChannels.append(gaussChArray)\n",
    "    return gaussChannels"
   ]
  },
  {
   "cell_type": "code",
   "execution_count": 9,
   "metadata": {},
   "outputs": [],
   "source": [
    "# this function will convert RGB channel arrays to image\n",
    "# after whole filtering process, this function should be called\n",
    "# to save or show image file\n",
    "def imageFromChArray(channels):\n",
    "    # each converted channel will be stored here\n",
    "    resultChannels = []\n",
    "\n",
    "    for channel in channels:\n",
    "        # convert channel array to image, and store it\n",
    "        resultChannels.append(Image.fromarray(channel.astype('uint8')))\n",
    "    # return merged RGB image\n",
    "    return Image.merge(\"RGB\", resultChannels)"
   ]
  },
  {
   "cell_type": "code",
   "execution_count": 10,
   "metadata": {},
   "outputs": [],
   "source": [
    "# Part 2.1\n",
    "# I choose dog image for low pass filtering,\n",
    "# so open dog image file\n",
    "dogIm = Image.open('2b_dog.bmp')\n",
    "\n",
    "# use previous functions to get low pass filtered color image\n",
    "dogLowPassIm = imageFromChArray(colorLowPassChannels(dogIm, 3))\n",
    "\n",
    "# show filterd image, and save it as file\n",
    "dogLowPassIm.show()\n",
    "dogLowPassIm.save(\"dog_lowpass.bmp\", \"PNG\")\n"
   ]
  },
  {
   "cell_type": "code",
   "execution_count": 11,
   "metadata": {},
   "outputs": [],
   "source": [
    "# Before Part 2.2, create high pass filter function\n",
    "# this function will return high pass filterd RGB channel list\n",
    "# it takes image, sigma value,\n",
    "# and v for determining whether visualize high path filter or not\n",
    "# if v is 0, filter will not visualized,\n",
    "# else if v is 1, filter will visualized by adding 128 to each pixel\n",
    "def colorHighPassChannels(im, sigma, v):\n",
    "    # prepare original and low pass filterd channels\n",
    "    r, g, b = im.split()\n",
    "    channels = [r, g, b]\n",
    "    lpChannels = colorLowPassChannels(im, sigma)\n",
    "    \n",
    "    # high pass filterd channels will be stored here\n",
    "    hpChannels = []\n",
    "\n",
    "    # I used zip() to iterate both channels at once\n",
    "    for channel, lpChannel in zip(channels, lpChannels):\n",
    "        # convert channels to arrays,\n",
    "        # and subtract low pass filter to original\n",
    "        # visualization is up to v value\n",
    "        # and store filtered channel\n",
    "        chArray = np.asarray(channel)\n",
    "        hpChArray = chArray - lpChannel + 128*v\n",
    "        hpChannels.append(hpChArray)\n",
    "    return hpChannels"
   ]
  },
  {
   "cell_type": "code",
   "execution_count": 12,
   "metadata": {},
   "outputs": [],
   "source": [
    "# Part 2.2\n",
    "# I choose dog image for low pass filtering\n",
    "catIm = Image.open('2a_cat.bmp')\n",
    "\n",
    "# use previous functions to get high pass filtered color image\n",
    "# finally show and save image file\n",
    "\n",
    "catHighPassIm = imageFromChArray(colorHighPassChannels(catIm, 3, 1))\n",
    "\n",
    "catHighPassIm.show()\n",
    "catHighPassIm.save(\"cat_highpass.bmp\", \"PNG\")"
   ]
  },
  {
   "cell_type": "code",
   "execution_count": 15,
   "metadata": {},
   "outputs": [],
   "source": [
    "# before Part 2.3, create hybrid image function\n",
    "# it returns RGB channel list of hybrid image\n",
    "# it takes two image for low pass, and high pass filter\n",
    "# each filter's sigma value will be given seperately, too\n",
    "def colorHybrid(im1, im2, sigma1, sigma2):\n",
    "    # create low pass, high pass filter image\n",
    "    # for high pass filter, because there's no reason to visualize it, so it's visualize factor(=v) will be 0\n",
    "    lpChannels = colorLowPassChannels(im1, sigma1)\n",
    "    hpChannels = colorHighPassChannels(im2, sigma2, 0)\n",
    "\n",
    "    # hybrid image channels will be stored here\n",
    "    hybridChannels = []\n",
    "\n",
    "    for hpChannel, lpChannel in zip(hpChannels, lpChannels):\n",
    "        # sum each low pass and high pass filter\n",
    "        hybridChannel = lpChannel + hpChannel\n",
    "        # clamp outbounded values in previous results\n",
    "        # limit values to 255 which is larger than 255\n",
    "        # alse limit values to 0 which is smaller than 0\n",
    "        hybridChannel[np.where(hybridChannel > 255)] = 255\n",
    "        hybridChannel[np.where(hybridChannel < 0)] = 0\n",
    "        # store clamped channel array\n",
    "        hybridChannels.append(hybridChannel)\n",
    "        \n",
    "    return hybridChannels"
   ]
  },
  {
   "cell_type": "code",
   "execution_count": 14,
   "metadata": {},
   "outputs": [],
   "source": [
    "# Part 2.3\n",
    "# create hybrid image consist of low pass filtered dog and high pass filtered cat. sigma values is 3\n",
    "# it would be look like a cat at far distance,\n",
    "# and look like a dog in close distance\n",
    "catDogHybridIm  = imageFromChArray(colorHybrid(dogIm, catIm, 3, 3))\n",
    "\n",
    "# show hybrid image and save it as file\n",
    "catDogHybridIm.show()\n",
    "catDogHybridIm.save(\"cat_dog_hybrid.bmp\",\"PNG\")"
   ]
  }
 ],
 "metadata": {
  "kernelspec": {
   "display_name": "Python 3",
   "language": "python",
   "name": "python3"
  },
  "language_info": {
   "codemirror_mode": {
    "name": "ipython",
    "version": 3
   },
   "file_extension": ".py",
   "mimetype": "text/x-python",
   "name": "python",
   "nbconvert_exporter": "python",
   "pygments_lexer": "ipython3",
   "version": "3.8.5"
  }
 },
 "nbformat": 4,
 "nbformat_minor": 4
}
