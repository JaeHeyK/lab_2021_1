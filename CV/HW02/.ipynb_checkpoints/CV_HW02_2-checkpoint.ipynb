{
 "cells": [
  {
   "cell_type": "code",
   "execution_count": 79,
   "metadata": {},
   "outputs": [
    {
     "name": "stdout",
     "output_type": "stream",
     "text": [
      "Requirement already satisfied: Image in c:\\users\\jaehe\\anaconda3\\lib\\site-packages (1.5.33)\n",
      "Requirement already satisfied: django in c:\\users\\jaehe\\anaconda3\\lib\\site-packages (from Image) (3.1.7)\n",
      "Requirement already satisfied: six in c:\\users\\jaehe\\anaconda3\\lib\\site-packages (from Image) (1.15.0)\n",
      "Requirement already satisfied: pillow in c:\\users\\jaehe\\anaconda3\\lib\\site-packages (from Image) (8.0.1)\n",
      "Requirement already satisfied: asgiref<4,>=3.2.10 in c:\\users\\jaehe\\anaconda3\\lib\\site-packages (from django->Image) (3.3.1)\n",
      "Requirement already satisfied: pytz in c:\\users\\jaehe\\anaconda3\\lib\\site-packages (from django->Image) (2020.1)\n",
      "Requirement already satisfied: sqlparse>=0.2.2 in c:\\users\\jaehe\\anaconda3\\lib\\site-packages (from django->Image) (0.4.1)\n"
     ]
    }
   ],
   "source": [
    "!pip install Image"
   ]
  },
  {
   "cell_type": "code",
   "execution_count": 80,
   "metadata": {},
   "outputs": [
    {
     "name": "stdout",
     "output_type": "stream",
     "text": [
      "Requirement already satisfied: numpy in c:\\users\\jaehe\\anaconda3\\lib\\site-packages (1.19.2)\n"
     ]
    }
   ],
   "source": [
    "!pip install numpy"
   ]
  },
  {
   "cell_type": "code",
   "execution_count": 81,
   "metadata": {},
   "outputs": [],
   "source": [
    "from PIL import Image\n",
    "import numpy as np\n",
    "import math"
   ]
  },
  {
   "cell_type": "code",
   "execution_count": 82,
   "metadata": {},
   "outputs": [],
   "source": [
    "def boxfilter(n):\n",
    "    assert n%2 == 1, \"Dimesion must be odd\"\n",
    "    return np.ones((n,n))/(n**2)"
   ]
  },
  {
   "cell_type": "code",
   "execution_count": 83,
   "metadata": {},
   "outputs": [
    {
     "data": {
      "text/plain": [
       "array([[0.11111111, 0.11111111, 0.11111111],\n",
       "       [0.11111111, 0.11111111, 0.11111111],\n",
       "       [0.11111111, 0.11111111, 0.11111111]])"
      ]
     },
     "execution_count": 83,
     "metadata": {},
     "output_type": "execute_result"
    }
   ],
   "source": [
    "boxfilter(3)"
   ]
  },
  {
   "cell_type": "code",
   "execution_count": 84,
   "metadata": {},
   "outputs": [
    {
     "ename": "AssertionError",
     "evalue": "Dimesion must be odd",
     "output_type": "error",
     "traceback": [
      "\u001b[1;31m---------------------------------------------------------------------------\u001b[0m",
      "\u001b[1;31mAssertionError\u001b[0m                            Traceback (most recent call last)",
      "\u001b[1;32m<ipython-input-84-5870f78beb34>\u001b[0m in \u001b[0;36m<module>\u001b[1;34m\u001b[0m\n\u001b[1;32m----> 1\u001b[1;33m \u001b[0mboxfilter\u001b[0m\u001b[1;33m(\u001b[0m\u001b[1;36m4\u001b[0m\u001b[1;33m)\u001b[0m\u001b[1;33m\u001b[0m\u001b[1;33m\u001b[0m\u001b[0m\n\u001b[0m",
      "\u001b[1;32m<ipython-input-82-21907418cb6a>\u001b[0m in \u001b[0;36mboxfilter\u001b[1;34m(n)\u001b[0m\n\u001b[0;32m      1\u001b[0m \u001b[1;32mdef\u001b[0m \u001b[0mboxfilter\u001b[0m\u001b[1;33m(\u001b[0m\u001b[0mn\u001b[0m\u001b[1;33m)\u001b[0m\u001b[1;33m:\u001b[0m\u001b[1;33m\u001b[0m\u001b[1;33m\u001b[0m\u001b[0m\n\u001b[1;32m----> 2\u001b[1;33m     \u001b[1;32massert\u001b[0m \u001b[0mn\u001b[0m\u001b[1;33m%\u001b[0m\u001b[1;36m2\u001b[0m \u001b[1;33m==\u001b[0m \u001b[1;36m1\u001b[0m\u001b[1;33m,\u001b[0m \u001b[1;34m\"Dimesion must be odd\"\u001b[0m\u001b[1;33m\u001b[0m\u001b[1;33m\u001b[0m\u001b[0m\n\u001b[0m\u001b[0;32m      3\u001b[0m     \u001b[1;32mreturn\u001b[0m \u001b[0mnp\u001b[0m\u001b[1;33m.\u001b[0m\u001b[0mones\u001b[0m\u001b[1;33m(\u001b[0m\u001b[1;33m(\u001b[0m\u001b[0mn\u001b[0m\u001b[1;33m,\u001b[0m\u001b[0mn\u001b[0m\u001b[1;33m)\u001b[0m\u001b[1;33m)\u001b[0m\u001b[1;33m/\u001b[0m\u001b[1;33m(\u001b[0m\u001b[0mn\u001b[0m\u001b[1;33m**\u001b[0m\u001b[1;36m2\u001b[0m\u001b[1;33m)\u001b[0m\u001b[1;33m\u001b[0m\u001b[1;33m\u001b[0m\u001b[0m\n",
      "\u001b[1;31mAssertionError\u001b[0m: Dimesion must be odd"
     ]
    }
   ],
   "source": [
    "boxfilter(4)"
   ]
  },
  {
   "cell_type": "code",
   "execution_count": 85,
   "metadata": {},
   "outputs": [
    {
     "data": {
      "text/plain": [
       "array([[0.02040816, 0.02040816, 0.02040816, 0.02040816, 0.02040816,\n",
       "        0.02040816, 0.02040816],\n",
       "       [0.02040816, 0.02040816, 0.02040816, 0.02040816, 0.02040816,\n",
       "        0.02040816, 0.02040816],\n",
       "       [0.02040816, 0.02040816, 0.02040816, 0.02040816, 0.02040816,\n",
       "        0.02040816, 0.02040816],\n",
       "       [0.02040816, 0.02040816, 0.02040816, 0.02040816, 0.02040816,\n",
       "        0.02040816, 0.02040816],\n",
       "       [0.02040816, 0.02040816, 0.02040816, 0.02040816, 0.02040816,\n",
       "        0.02040816, 0.02040816],\n",
       "       [0.02040816, 0.02040816, 0.02040816, 0.02040816, 0.02040816,\n",
       "        0.02040816, 0.02040816],\n",
       "       [0.02040816, 0.02040816, 0.02040816, 0.02040816, 0.02040816,\n",
       "        0.02040816, 0.02040816]])"
      ]
     },
     "execution_count": 85,
     "metadata": {},
     "output_type": "execute_result"
    }
   ],
   "source": [
    "boxfilter(7)"
   ]
  },
  {
   "cell_type": "code",
   "execution_count": 86,
   "metadata": {},
   "outputs": [],
   "source": [
    "def gauss1d(sigma):\n",
    "    d = math.ceil(sigma*6)//2*2+1\n",
    "    g1 = np.exp(-(np.arange(d)-d//2)**2/(2*sigma**2))\n",
    "    return g1/np.sum(g1)"
   ]
  },
  {
   "cell_type": "code",
   "execution_count": 87,
   "metadata": {},
   "outputs": [
    {
     "data": {
      "text/plain": [
       "array([0.00383626, 0.99232748, 0.00383626])"
      ]
     },
     "execution_count": 87,
     "metadata": {},
     "output_type": "execute_result"
    }
   ],
   "source": [
    "gauss1d(0.3)"
   ]
  },
  {
   "cell_type": "code",
   "execution_count": 88,
   "metadata": {},
   "outputs": [
    {
     "data": {
      "text/plain": [
       "array([0.10650698, 0.78698604, 0.10650698])"
      ]
     },
     "execution_count": 88,
     "metadata": {},
     "output_type": "execute_result"
    }
   ],
   "source": [
    "gauss1d(0.5)"
   ]
  },
  {
   "cell_type": "code",
   "execution_count": 89,
   "metadata": {},
   "outputs": [
    {
     "data": {
      "text/plain": [
       "array([0.00443305, 0.05400558, 0.24203623, 0.39905028, 0.24203623,\n",
       "       0.05400558, 0.00443305])"
      ]
     },
     "execution_count": 89,
     "metadata": {},
     "output_type": "execute_result"
    }
   ],
   "source": [
    "gauss1d(1)"
   ]
  },
  {
   "cell_type": "code",
   "execution_count": 90,
   "metadata": {},
   "outputs": [
    {
     "data": {
      "text/plain": [
       "array([0.0022182 , 0.00877313, 0.02702316, 0.06482519, 0.12110939,\n",
       "       0.17621312, 0.19967563, 0.17621312, 0.12110939, 0.06482519,\n",
       "       0.02702316, 0.00877313, 0.0022182 ])"
      ]
     },
     "execution_count": 90,
     "metadata": {},
     "output_type": "execute_result"
    }
   ],
   "source": [
    "gauss1d(2)"
   ]
  },
  {
   "cell_type": "code",
   "execution_count": 91,
   "metadata": {},
   "outputs": [],
   "source": [
    "def gauss2d(sigma):\n",
    "    return np.outer(gauss1d(sigma), gauss1d(sigma))"
   ]
  },
  {
   "cell_type": "code",
   "execution_count": 92,
   "metadata": {},
   "outputs": [
    {
     "data": {
      "text/plain": [
       "array([[0.01134374, 0.08381951, 0.01134374],\n",
       "       [0.08381951, 0.61934703, 0.08381951],\n",
       "       [0.01134374, 0.08381951, 0.01134374]])"
      ]
     },
     "execution_count": 92,
     "metadata": {},
     "output_type": "execute_result"
    }
   ],
   "source": [
    "gauss2d(0.5)"
   ]
  },
  {
   "cell_type": "code",
   "execution_count": 93,
   "metadata": {},
   "outputs": [
    {
     "data": {
      "text/plain": [
       "array([[1.96519161e-05, 2.39409349e-04, 1.07295826e-03, 1.76900911e-03,\n",
       "        1.07295826e-03, 2.39409349e-04, 1.96519161e-05],\n",
       "       [2.39409349e-04, 2.91660295e-03, 1.30713076e-02, 2.15509428e-02,\n",
       "        1.30713076e-02, 2.91660295e-03, 2.39409349e-04],\n",
       "       [1.07295826e-03, 1.30713076e-02, 5.85815363e-02, 9.65846250e-02,\n",
       "        5.85815363e-02, 1.30713076e-02, 1.07295826e-03],\n",
       "       [1.76900911e-03, 2.15509428e-02, 9.65846250e-02, 1.59241126e-01,\n",
       "        9.65846250e-02, 2.15509428e-02, 1.76900911e-03],\n",
       "       [1.07295826e-03, 1.30713076e-02, 5.85815363e-02, 9.65846250e-02,\n",
       "        5.85815363e-02, 1.30713076e-02, 1.07295826e-03],\n",
       "       [2.39409349e-04, 2.91660295e-03, 1.30713076e-02, 2.15509428e-02,\n",
       "        1.30713076e-02, 2.91660295e-03, 2.39409349e-04],\n",
       "       [1.96519161e-05, 2.39409349e-04, 1.07295826e-03, 1.76900911e-03,\n",
       "        1.07295826e-03, 2.39409349e-04, 1.96519161e-05]])"
      ]
     },
     "execution_count": 93,
     "metadata": {},
     "output_type": "execute_result"
    }
   ],
   "source": [
    "gauss2d(1)"
   ]
  },
  {
   "cell_type": "code",
   "execution_count": 94,
   "metadata": {},
   "outputs": [],
   "source": [
    "def convolve2d(array, filter):\n",
    "    array.astype(np.float32)\n",
    "    \n",
    "    m = filter.shape[0]//2\n",
    "    pad = np.pad(array,m,\"constant\", constant_values=0)\n",
    "    conv = filter[:,::-1][::-1]\n",
    "\n",
    "    result = np.zeros(array.shape)\n",
    "\n",
    "    for i in range(m,array.shape[0]+m):\n",
    "        for j in range(m, array.shape[1]+m):\n",
    "            result[i-m][j-m] = np.sum(conv * pad[i-m:i+m+1,j-m:j+m+1])\n",
    "\n",
    "    return result"
   ]
  },
  {
   "cell_type": "code",
   "execution_count": 95,
   "metadata": {},
   "outputs": [],
   "source": [
    "def gaussconvolve2d(array, sigma):\n",
    "    return convolve2d(array, gauss2d(sigma))"
   ]
  },
  {
   "cell_type": "code",
   "execution_count": 96,
   "metadata": {},
   "outputs": [],
   "source": [
    "dogIm = Image.open('2b_dog.bmp')\n",
    "dogIm.show()\n",
    "\n",
    "dogIm = dogIm.convert('L')\n",
    "dogImArray = np.asarray(dogIm)\n",
    "dogImGaussArray = gaussconvolve2d(dogImArray, 3)\n",
    "dogImGaussArray = dogImGaussArray.astype('uint8')\n",
    "\n",
    "dogImGauss = Image.fromarray(dogImGaussArray)\n",
    "dogImGauss.save('dog_gaussian.bmp', 'PNG')\n",
    "\n",
    "dogImGauss.show()"
   ]
  },
  {
   "cell_type": "code",
   "execution_count": 97,
   "metadata": {},
   "outputs": [],
   "source": [
    "def colorLowPassChannels(im, sigma):\n",
    "    r,g,b = im.split()\n",
    "    channels = [r, g, b]\n",
    "    gaussChannels = []\n",
    "    \n",
    "    for channel in channels:\n",
    "        chArray = np.asarray(channel)\n",
    "        gaussChArray = gaussconvolve2d(chArray, sigma)\n",
    "        gaussChannels.append(gaussChArray)\n",
    "    return gaussChannels"
   ]
  },
  {
   "cell_type": "code",
   "execution_count": 98,
   "metadata": {},
   "outputs": [],
   "source": [
    "def imageFromChArray(channels):\n",
    "    resultChannels = []\n",
    "    for channel in channels:\n",
    "        resultChannels.append(Image.fromarray(channel.astype('uint8')))\n",
    "    return Image.merge(\"RGB\", resultChannels)"
   ]
  },
  {
   "cell_type": "code",
   "execution_count": 99,
   "metadata": {},
   "outputs": [],
   "source": [
    "dogIm = Image.open('2b_dog.bmp')\n",
    "\n",
    "dogLowPassIm = imageFromChArray(colorLowPassChannels(dogIm, 5))\n",
    "\n",
    "dogLowPassIm.show()\n",
    "dogLowPassIm.save(\"dog_lowpass.bmp\", \"PNG\")\n"
   ]
  },
  {
   "cell_type": "code",
   "execution_count": 100,
   "metadata": {},
   "outputs": [],
   "source": [
    "def colorHighPassChannels(im, sigma, v):\n",
    "    r, g, b = im.split()\n",
    "    channels = [r, g, b]\n",
    "    hpChannels = []\n",
    "    for channel in channels:\n",
    "        chArray = np.asarray(channel)\n",
    "        hpChArray = chArray - gaussconvolve2d(chArray, sigma) + 128*v\n",
    "        hpChannels.append(hpChArray)\n",
    "    return hpChannels"
   ]
  },
  {
   "cell_type": "code",
   "execution_count": 101,
   "metadata": {},
   "outputs": [],
   "source": [
    "catIm = Image.open('2a_cat.bmp')\n",
    "\n",
    "catHighPassIm = imageFromChArray(colorHighPassChannels(catIm, 2, 1))\n",
    "\n",
    "catHighPassIm.show()\n",
    "\n",
    "catHighPassIm.save(\"cat_highpass.bmp\", \"PNG\")"
   ]
  },
  {
   "cell_type": "code",
   "execution_count": 102,
   "metadata": {},
   "outputs": [],
   "source": [
    "def colorHybrid(im1, im2, sigma1, sigma2):\n",
    "    lpChannels = colorLowPassChannels(im1, sigma1)\n",
    "    hpChannels = colorHighPassChannels(im2, sigma2, 0)\n",
    "    hybridChannels = []\n",
    "    for hpChannel, lpChannel in zip(hpChannels, lpChannels):\n",
    "        hybridChannel = lpChannel + hpChannel\n",
    "        hybridChannel[np.where(hybridChannel > 255)] = 255\n",
    "        hybridChannel[np.where(hybridChannel < 0)] = 0\n",
    "        hybridChannels.append(hybridChannel)\n",
    "        \n",
    "    return hybridChannels"
   ]
  },
  {
   "cell_type": "code",
   "execution_count": 105,
   "metadata": {},
   "outputs": [],
   "source": [
    "catDogHybridIm  = imageFromChArray(colorHybrid(dogIm, catIm, 5, 3))\n",
    "\n",
    "catDogHybridIm.show()\n",
    "\n",
    "catDogHybridIm.save(\"cat_dog_hybird.bmp\",\"PNG\")"
   ]
  },
  {
   "cell_type": "code",
   "execution_count": null,
   "metadata": {},
   "outputs": [],
   "source": []
  }
 ],
 "metadata": {
  "kernelspec": {
   "display_name": "Python 3",
   "language": "python",
   "name": "python3"
  },
  "language_info": {
   "codemirror_mode": {
    "name": "ipython",
    "version": 3
   },
   "file_extension": ".py",
   "mimetype": "text/x-python",
   "name": "python",
   "nbconvert_exporter": "python",
   "pygments_lexer": "ipython3",
   "version": "3.8.5"
  }
 },
 "nbformat": 4,
 "nbformat_minor": 4
}
